{
 "cells": [
  {
   "cell_type": "code",
   "execution_count": 1,
   "id": "3d6c55aa-b2a6-4a06-a502-77fc6b2541dd",
   "metadata": {},
   "outputs": [],
   "source": [
    " #PYTHON BASICS QUESTIONS (THEORY)\n"
   ]
  },
  {
   "cell_type": "raw",
   "id": "614c28b1-5cf7-4083-9b8f-4d494fba97bd",
   "metadata": {},
   "source": [
    "1. What is Python, and why is it popular?\n",
    " -> Python is a formal language containing set of rules and symbols which are used to give instructions to a computer.\n",
    "   It is a very popular programming language because of following reasons -:\n",
    "   . it is widely used in industries , for example data industry , image processing, automation etc\n",
    "   . there is a large  active python community\n",
    "   .  python has a lot of libraries\n",
    "   . it is a easy to understand language\n",
    "   "
   ]
  },
  {
   "cell_type": "raw",
   "id": "2ed112e4-c9b3-4d35-a7de-0b6d4a939b49",
   "metadata": {},
   "source": [
    " 2. What is an interpreter in Python?\n",
    "-> The interpreter in python translates the code line by line into machine readable language and executes the code"
   ]
  },
  {
   "cell_type": "raw",
   "id": "c87ef9b4-6568-47db-a937-26468c07dd01",
   "metadata": {},
   "source": [
    "3. What are pre-defined keywords in Python ?\n",
    "-> Keywords are the predefined words that have a special meaning and purpose in python . Some examples includes if,elif,while , for etc. We can access the keywords using help.(\"keywords\")in python"
   ]
  },
  {
   "cell_type": "raw",
   "id": "2f120476-00ab-47d0-8642-cdef8b7cdaa0",
   "metadata": {},
   "source": [
    "4. Can keywords be used as variable names ?\n",
    "-> No Keywords can not be used as Variable names because they have a special meaning and purpose in python and if these are used as variable it will throw an error."
   ]
  },
  {
   "cell_type": "raw",
   "id": "e6086f82-d759-47a9-80df-6e9999526426",
   "metadata": {},
   "source": [
    " 5. What is mutability in Python?\n",
    " -> Mutability in python means that the value of objects/conatainer can be changed after they are created. Objects whose values can be altered post creation are known as mutable objects example list container and the objects whose values cannot be changed post creation are called immutable objects example string."
   ]
  },
  {
   "cell_type": "raw",
   "id": "0260a2a6-1483-48a2-9de2-2cbb7d9228db",
   "metadata": {},
   "source": [
    "6. Why are lists mutable, but tuples are immutable?\n",
    "-> lists in python are mutable because these are covered between [] while tuples are immutable because they are covered between ()."
   ]
  },
  {
   "cell_type": "raw",
   "id": "358d173d-6029-4de1-8577-aab26554ba5e",
   "metadata": {},
   "source": [
    "7.  What is the difference between “==” and “is” operators in Python?\n",
    "-> \"==\" in python is the part of comparison operators . It is used to compare two values.It returns True if the values are equal else it will return false value . For example - 2==2 will give us True . Whereas 'is\" operator compares the location of objects. It will also return value as True or False. For example , a = 5 and b = 6 , a is b , It will give us False.\n"
   ]
  },
  {
   "cell_type": "raw",
   "id": "54add3be-184c-447d-8137-74691bfa1a52",
   "metadata": {},
   "source": [
    "8.  What are logical operators in Python ?\n",
    "->Logical operators in python are used to perform operations in python. There are three logical operators that is -  and operator, or operator and not operator. They return the boolean values."
   ]
  },
  {
   "cell_type": "raw",
   "id": "73c29ab3-4903-4d6c-971b-79c63b5624f2",
   "metadata": {},
   "source": [
    "9. What is type casting in Python ?\n",
    "Type casting in python is a way to convert the type of value or variable . sometimes in python while applying the operation the values has to be same otherwise it will throw an error and hence the type casting is used."
   ]
  },
  {
   "cell_type": "raw",
   "id": "5cdfb0f2-7d90-46d6-a583-19761cfa7387",
   "metadata": {},
   "source": [
    "10. What is the difference between implicit and explicit type casting?\n",
    "-> Implicit type casting means the inbuilt power of python to identify the type of value / variable .\n",
    "Whereas explicit type casting means we can convert the type of value or variable while computation \n"
   ]
  },
  {
   "cell_type": "raw",
   "id": "ee1064bd-10e3-414e-95c4-b4962458f9fa",
   "metadata": {},
   "source": [
    "11. What is the purpose of conditional statements in Python ?\n",
    "-> conditional statements helps us to code decisions based on some preconditions.\n",
    "These includes - if statement.\n",
    "                 if - else\n",
    "                 if - elif-else\n",
    "                 nested if else"
   ]
  },
  {
   "cell_type": "raw",
   "id": "d54d8df3-abe6-4a83-b8f3-a1728543a6ca",
   "metadata": {},
   "source": [
    "12. How does the elif statement work?\n",
    "-> for example -  a = 100\n",
    "                  if a > 100: ( if this statement is true then it will get printed)\n",
    "                      print (\"a is greater than 100\")\n",
    "                  elif a = 100: ( if above condition is false , it will verify this statement and if this will be true this will be printed)\n",
    "                      print (\" a is equal to 100\")\n",
    "                  else:\n",
    "                       print (\"a is smaller number\")   "
   ]
  },
  {
   "cell_type": "raw",
   "id": "8d3962fc-1cca-4b1b-ba83-2dc7a38825ee",
   "metadata": {},
   "source": [
    "13. What is the difference between for and while loop?\n",
    "Both for loop and while loop is used to execute the statements repeatedly while the program runs. The major difference between for loop and while loop is that for loop is used when the number of iterations is known, whereas execution is done in a while loop until the statement in the program is proved wrong."
   ]
  },
  {
   "cell_type": "raw",
   "id": "7cd3e8ba-895f-4ce5-ab30-fb0a7c29f7c1",
   "metadata": {},
   "source": [
    "14. Describe a scenario where a while loop is more suitable than a for loop.\n",
    " -> when the number of iterations are known \"for\" loop is preferred but when the number of iteration are not known and the program will run until a specific condition is met \"while\" loop is a better choice \n",
    "    "
   ]
  },
  {
   "cell_type": "code",
   "execution_count": null,
   "id": "f33811c6-f2e4-4e6f-8718-571d90c6339c",
   "metadata": {},
   "outputs": [],
   "source": []
  },
  {
   "cell_type": "code",
   "execution_count": null,
   "id": "5a8b7023-dd0d-4343-81a3-19e9de119ca7",
   "metadata": {},
   "outputs": [],
   "source": []
  },
  {
   "cell_type": "code",
   "execution_count": 2,
   "id": "315652ed-40c5-42a9-a220-580600225715",
   "metadata": {},
   "outputs": [],
   "source": [
    "#PRACTICAL QUESTIONS "
   ]
  },
  {
   "cell_type": "raw",
   "id": "037a48cc-984f-469f-a0c9-3337fe7eaeae",
   "metadata": {},
   "source": [
    "1.  Write a Python program to print \"Hello, World !\".\n",
    "\n"
   ]
  },
  {
   "cell_type": "code",
   "execution_count": 4,
   "id": "e608a8ec-c9c0-4e1f-8a0a-959adcb00f42",
   "metadata": {},
   "outputs": [
    {
     "name": "stdout",
     "output_type": "stream",
     "text": [
      "Hello,World !\n"
     ]
    }
   ],
   "source": [
    "print(\"Hello,World !\")"
   ]
  },
  {
   "cell_type": "raw",
   "id": "d0ebdb1c-eb4a-4468-970e-ebc9317afb40",
   "metadata": {},
   "source": [
    "2. Write a Python program that displays your name and age."
   ]
  },
  {
   "cell_type": "code",
   "execution_count": 10,
   "id": "fb11dfb9-cba3-4685-812f-006927c1c6a3",
   "metadata": {},
   "outputs": [
    {
     "name": "stdout",
     "output_type": "stream",
     "text": [
      "Name = Gurpreet Singh\n",
      "Age = 26\n"
     ]
    }
   ],
   "source": [
    "\n",
    "print(\"Name = Gurpreet Singh\")\n",
    "print (\"Age = 26\")"
   ]
  },
  {
   "cell_type": "raw",
   "id": "8f7b4733-36e5-405c-8ae0-5f75a4821ab9",
   "metadata": {},
   "source": [
    "3.  Write code to print all the pre-defined keywords in Python using the keyword library.\n"
   ]
  },
  {
   "cell_type": "code",
   "execution_count": 13,
   "id": "f10868bd-64e6-4a43-8bf2-f7b464920b89",
   "metadata": {},
   "outputs": [
    {
     "name": "stdout",
     "output_type": "stream",
     "text": [
      "\n",
      "Here is a list of the Python keywords.  Enter any keyword to get more help.\n",
      "\n",
      "False               class               from                or\n",
      "None                continue            global              pass\n",
      "True                def                 if                  raise\n",
      "and                 del                 import              return\n",
      "as                  elif                in                  try\n",
      "assert              else                is                  while\n",
      "async               except              lambda              with\n",
      "await               finally             nonlocal            yield\n",
      "break               for                 not                 \n",
      "\n"
     ]
    }
   ],
   "source": [
    "help(\"keywords\")"
   ]
  },
  {
   "cell_type": "raw",
   "id": "ee3736de-56e1-4e97-8303-bc0021c28b3b",
   "metadata": {},
   "source": [
    "4.Write a program that checks if a given word is a Python keyword\n"
   ]
  },
  {
   "cell_type": "code",
   "execution_count": null,
   "id": "ab0fd5e4-c6e3-46a7-9243-07d0d0b09703",
   "metadata": {},
   "outputs": [],
   "source": []
  },
  {
   "cell_type": "code",
   "execution_count": null,
   "id": "c2cccfca-8918-4bba-9490-69ed779ccfae",
   "metadata": {},
   "outputs": [],
   "source": []
  },
  {
   "cell_type": "raw",
   "id": "b108e3ab-0949-414a-8d8d-eb115a5faf55",
   "metadata": {},
   "source": [
    "5. Create a list and tuple in Python, and demonstrate how attempting to change an element works differently\n",
    "for each.\n"
   ]
  },
  {
   "cell_type": "code",
   "execution_count": 15,
   "id": "9ced5e24-96b2-48c2-bbc4-35c3fa2a9984",
   "metadata": {},
   "outputs": [
    {
     "ename": "TypeError",
     "evalue": "'tuple' object does not support item assignment",
     "output_type": "error",
     "traceback": [
      "\u001b[1;31m---------------------------------------------------------------------------\u001b[0m",
      "\u001b[1;31mTypeError\u001b[0m                                 Traceback (most recent call last)",
      "Cell \u001b[1;32mIn[15], line 3\u001b[0m\n\u001b[0;32m      1\u001b[0m \u001b[38;5;66;03m#python does not allow change of element in tuple\u001b[39;00m\n\u001b[0;32m      2\u001b[0m a \u001b[38;5;241m=\u001b[39m ( \u001b[38;5;241m1\u001b[39m, \u001b[38;5;124m\"\u001b[39m\u001b[38;5;124mAjay\u001b[39m\u001b[38;5;124m\"\u001b[39m, \u001b[38;5;241m3\u001b[39m\u001b[38;5;241m+\u001b[39m\u001b[38;5;241m7\u001b[39mj, \u001b[38;5;241m3.5\u001b[39m ) \u001b[38;5;66;03m#this is tuple\u001b[39;00m\n\u001b[1;32m----> 3\u001b[0m a[\u001b[38;5;241m2\u001b[39m] \u001b[38;5;241m=\u001b[39m \u001b[38;5;241m5\u001b[39m\u001b[38;5;241m+\u001b[39m\u001b[38;5;241m6\u001b[39mj\n",
      "\u001b[1;31mTypeError\u001b[0m: 'tuple' object does not support item assignment"
     ]
    }
   ],
   "source": [
    "#python does not allow change of element in tuple\n",
    "a = ( 1, \"Ajay\", 3+7j, 3.5 ) #this is tuple\n",
    "a[2] = 5+6j"
   ]
  },
  {
   "cell_type": "code",
   "execution_count": 19,
   "id": "8118e213-ca44-45b3-a8b1-c6a1eed35294",
   "metadata": {},
   "outputs": [],
   "source": [
    "# in list we can change the element\n",
    "values = [\"Suresh\", 4.5, 2+4j, 6 ] # this is list\n",
    "values[-1] = 4\n",
    "values[0] = \"Karan\"\n",
    "values [1]= 6.9"
   ]
  },
  {
   "cell_type": "code",
   "execution_count": 20,
   "id": "c00d7ac9-a83c-40e4-9d0c-cda5856e7cf8",
   "metadata": {},
   "outputs": [
    {
     "data": {
      "text/plain": [
       "['Karan', 6.9, (2+4j), 4]"
      ]
     },
     "execution_count": 20,
     "metadata": {},
     "output_type": "execute_result"
    }
   ],
   "source": [
    "values"
   ]
  },
  {
   "cell_type": "code",
   "execution_count": 21,
   "id": "833bbaaa-7c9f-452c-8448-28d8eefbbc8a",
   "metadata": {},
   "outputs": [],
   "source": [
    "#hence the elements are changed\n"
   ]
  },
  {
   "cell_type": "raw",
   "id": "5cfb519b-5b9c-4d53-9a2d-19835cd90204",
   "metadata": {},
   "source": [
    "6.  Write a function to demonstrate the behavior of mutable and immutable arguments.\n"
   ]
  },
  {
   "cell_type": "code",
   "execution_count": 2,
   "id": "928d9af3-8e91-4760-8819-7ee1c02726f4",
   "metadata": {},
   "outputs": [
    {
     "ename": "TypeError",
     "evalue": "'str' object does not support item assignment",
     "output_type": "error",
     "traceback": [
      "\u001b[1;31m---------------------------------------------------------------------------\u001b[0m",
      "\u001b[1;31mTypeError\u001b[0m                                 Traceback (most recent call last)",
      "Cell \u001b[1;32mIn[2], line 3\u001b[0m\n\u001b[0;32m      1\u001b[0m \u001b[38;5;66;03m#string is an immutable object >>thus does not support item assignment\u001b[39;00m\n\u001b[0;32m      2\u001b[0m name \u001b[38;5;241m=\u001b[39m \u001b[38;5;124m\"\u001b[39m\u001b[38;5;124mAjay\u001b[39m\u001b[38;5;124m\"\u001b[39m\n\u001b[1;32m----> 3\u001b[0m name[\u001b[38;5;241m1\u001b[39m] \u001b[38;5;241m=\u001b[39m \u001b[38;5;124m\"\u001b[39m\u001b[38;5;124mb\u001b[39m\u001b[38;5;124m\"\u001b[39m\n",
      "\u001b[1;31mTypeError\u001b[0m: 'str' object does not support item assignment"
     ]
    }
   ],
   "source": [
    "#string is an immutable object >>thus does not support item assignment\n",
    "name = \"Ajay\"\n",
    "name[1] = \"b\" "
   ]
  },
  {
   "cell_type": "code",
   "execution_count": 3,
   "id": "a83b2bcd-ef72-42ce-9af6-c32aeeb81afe",
   "metadata": {},
   "outputs": [],
   "source": [
    "# Similarly tuple is also immutable object and does not support item assignment\n"
   ]
  },
  {
   "cell_type": "code",
   "execution_count": 7,
   "id": "77a44923-480f-46a8-af06-aa0f93ba17cf",
   "metadata": {},
   "outputs": [
    {
     "data": {
      "text/plain": [
       "['Raju', 2, 2.5]"
      ]
     },
     "execution_count": 7,
     "metadata": {},
     "output_type": "execute_result"
    }
   ],
   "source": [
    "#List is a mutuable object >> thus it supports item assignment\n",
    "list_cont = [ \"Ajay \" , 1, 2.5 ]\n",
    "list_cont[1] = 2\n",
    "list_cont [-3]=\"Raju\"\n",
    "list_cont\n",
    "\n"
   ]
  },
  {
   "cell_type": "raw",
   "id": "7c7f9e66-1fce-4bf4-9d0f-8b25c749ea51",
   "metadata": {},
   "source": [
    "7.  Write a function to demonstrate the behavior of mutable and immutable arguments\n",
    "-> it is same question as above"
   ]
  },
  {
   "cell_type": "code",
   "execution_count": null,
   "id": "46a8307a-3207-4386-a322-3eab09e6ef89",
   "metadata": {},
   "outputs": [],
   "source": []
  },
  {
   "cell_type": "raw",
   "id": "1fa81b62-9355-4b63-9e78-9c4c1f3b09e0",
   "metadata": {},
   "source": [
    " 8. write a program to demonstrate the use of logical operators\n"
   ]
  },
  {
   "cell_type": "code",
   "execution_count": 26,
   "id": "23f01b02-e86d-42ae-81bb-4b007a485efe",
   "metadata": {},
   "outputs": [
    {
     "data": {
      "text/plain": [
       "True"
      ]
     },
     "execution_count": 26,
     "metadata": {},
     "output_type": "execute_result"
    }
   ],
   "source": [
    "#logical operators includes - and , or and not operator\n",
    "\n",
    "# and operator\n",
    "True and True"
   ]
  },
  {
   "cell_type": "code",
   "execution_count": 23,
   "id": "bcc37a7b-e16f-4551-b169-d05bad7519cb",
   "metadata": {},
   "outputs": [
    {
     "data": {
      "text/plain": [
       "False"
      ]
     },
     "execution_count": 23,
     "metadata": {},
     "output_type": "execute_result"
    }
   ],
   "source": [
    "False & True"
   ]
  },
  {
   "cell_type": "code",
   "execution_count": 24,
   "id": "97caf45a-1454-4072-be2e-9c51c6a8843c",
   "metadata": {},
   "outputs": [
    {
     "data": {
      "text/plain": [
       "False"
      ]
     },
     "execution_count": 24,
     "metadata": {},
     "output_type": "execute_result"
    }
   ],
   "source": [
    "False & False"
   ]
  },
  {
   "cell_type": "code",
   "execution_count": 25,
   "id": "0f08422d-dc7a-4655-96a4-127a1b1ed726",
   "metadata": {},
   "outputs": [
    {
     "data": {
      "text/plain": [
       "False"
      ]
     },
     "execution_count": 25,
     "metadata": {},
     "output_type": "execute_result"
    }
   ],
   "source": [
    "True & False"
   ]
  },
  {
   "cell_type": "code",
   "execution_count": 29,
   "id": "029a3022-c185-42d2-9c8b-a2a054a569d5",
   "metadata": {},
   "outputs": [
    {
     "data": {
      "text/plain": [
       "True"
      ]
     },
     "execution_count": 29,
     "metadata": {},
     "output_type": "execute_result"
    }
   ],
   "source": [
    "# or operator\n",
    "True or False"
   ]
  },
  {
   "cell_type": "code",
   "execution_count": 30,
   "id": "69ba9c29-119a-4cfc-9cdb-4e22f414f458",
   "metadata": {},
   "outputs": [
    {
     "data": {
      "text/plain": [
       "False"
      ]
     },
     "execution_count": 30,
     "metadata": {},
     "output_type": "execute_result"
    }
   ],
   "source": [
    "False or False"
   ]
  },
  {
   "cell_type": "code",
   "execution_count": 31,
   "id": "3cb0288c-02c0-42fc-a14e-35d8d76abe1e",
   "metadata": {},
   "outputs": [
    {
     "data": {
      "text/plain": [
       "True"
      ]
     },
     "execution_count": 31,
     "metadata": {},
     "output_type": "execute_result"
    }
   ],
   "source": [
    "False or True"
   ]
  },
  {
   "cell_type": "code",
   "execution_count": 32,
   "id": "f52a7b87-0fce-4976-81af-c4235626cf71",
   "metadata": {},
   "outputs": [
    {
     "data": {
      "text/plain": [
       "True"
      ]
     },
     "execution_count": 32,
     "metadata": {},
     "output_type": "execute_result"
    }
   ],
   "source": [
    "True or True"
   ]
  },
  {
   "cell_type": "code",
   "execution_count": 33,
   "id": "2bce8cf6-4619-49f0-ae61-517789f53ea6",
   "metadata": {},
   "outputs": [
    {
     "data": {
      "text/plain": [
       "False"
      ]
     },
     "execution_count": 33,
     "metadata": {},
     "output_type": "execute_result"
    }
   ],
   "source": [
    "# not operator\n",
    "not True"
   ]
  },
  {
   "cell_type": "code",
   "execution_count": 34,
   "id": "1b56d7e8-5b0b-4293-8eac-2332f3738b82",
   "metadata": {},
   "outputs": [
    {
     "data": {
      "text/plain": [
       "True"
      ]
     },
     "execution_count": 34,
     "metadata": {},
     "output_type": "execute_result"
    }
   ],
   "source": [
    "not False"
   ]
  },
  {
   "cell_type": "raw",
   "id": "daaae019-18cd-4f13-8388-2456b7333e3e",
   "metadata": {},
   "source": [
    "9. Write a Python program to convert user input from string to integer, float, and boolean types.\n",
    "\n"
   ]
  },
  {
   "cell_type": "code",
   "execution_count": 36,
   "id": "6d91ecfd-262d-465d-b1e1-f4dee9335a34",
   "metadata": {},
   "outputs": [
    {
     "name": "stdin",
     "output_type": "stream",
     "text": [
      "Please Enter your Age : 26\n"
     ]
    }
   ],
   "source": [
    "Age = input(\"Please Enter your Age :\")"
   ]
  },
  {
   "cell_type": "code",
   "execution_count": 51,
   "id": "0387f03b-b134-4582-b0f0-e208e1ed301a",
   "metadata": {},
   "outputs": [
    {
     "data": {
      "text/plain": [
       "str"
      ]
     },
     "execution_count": 51,
     "metadata": {},
     "output_type": "execute_result"
    }
   ],
   "source": [
    "type(Age)\n"
   ]
  },
  {
   "cell_type": "code",
   "execution_count": 39,
   "id": "422c15aa-c651-4170-b357-fa0d52ca6f55",
   "metadata": {},
   "outputs": [
    {
     "data": {
      "text/plain": [
       "26"
      ]
     },
     "execution_count": 39,
     "metadata": {},
     "output_type": "execute_result"
    }
   ],
   "source": [
    "# string to integer\n",
    "int(Age)"
   ]
  },
  {
   "cell_type": "code",
   "execution_count": 42,
   "id": "98e4f732-3b45-449e-afc9-0d665a321b01",
   "metadata": {},
   "outputs": [
    {
     "data": {
      "text/plain": [
       "int"
      ]
     },
     "execution_count": 42,
     "metadata": {},
     "output_type": "execute_result"
    }
   ],
   "source": [
    "type(int(Age))"
   ]
  },
  {
   "cell_type": "code",
   "execution_count": 44,
   "id": "e66e0ac5-96e6-45e4-812e-96a152bfb33d",
   "metadata": {},
   "outputs": [
    {
     "data": {
      "text/plain": [
       "26.0"
      ]
     },
     "execution_count": 44,
     "metadata": {},
     "output_type": "execute_result"
    }
   ],
   "source": [
    "# string to float\n",
    "float(Age)"
   ]
  },
  {
   "cell_type": "code",
   "execution_count": 46,
   "id": "64b81493-283d-4f05-89b6-e5651ab255b1",
   "metadata": {},
   "outputs": [
    {
     "data": {
      "text/plain": [
       "float"
      ]
     },
     "execution_count": 46,
     "metadata": {},
     "output_type": "execute_result"
    }
   ],
   "source": [
    "type(float(Age))"
   ]
  },
  {
   "cell_type": "code",
   "execution_count": 47,
   "id": "d3f0c35b-c48d-4896-915c-0eb5e381e7cc",
   "metadata": {},
   "outputs": [
    {
     "data": {
      "text/plain": [
       "True"
      ]
     },
     "execution_count": 47,
     "metadata": {},
     "output_type": "execute_result"
    }
   ],
   "source": [
    "#string to boolean\n",
    "bool(Age)"
   ]
  },
  {
   "cell_type": "code",
   "execution_count": 53,
   "id": "ebb0bcb1-2fd1-47ae-bd95-373f73a098f2",
   "metadata": {},
   "outputs": [
    {
     "data": {
      "text/plain": [
       "bool"
      ]
     },
     "execution_count": 53,
     "metadata": {},
     "output_type": "execute_result"
    }
   ],
   "source": [
    "type(bool(Age))"
   ]
  },
  {
   "cell_type": "raw",
   "id": "5e3f72b5-eee9-4ecc-9eb9-7d20711c384d",
   "metadata": {},
   "source": [
    " 10. Write code to demonstrate type casting with list elements.\n"
   ]
  },
  {
   "cell_type": "code",
   "execution_count": 55,
   "id": "1836b259-5545-4185-bb95-1230a37b3638",
   "metadata": {},
   "outputs": [
    {
     "data": {
      "text/plain": [
       "str"
      ]
     },
     "execution_count": 55,
     "metadata": {},
     "output_type": "execute_result"
    }
   ],
   "source": [
    "list_cont = [ \"Vaibhav\", 2 , 6.5, 9+7j ]\n",
    "type(list_cont[0])"
   ]
  },
  {
   "cell_type": "code",
   "execution_count": 58,
   "id": "52d8f592-cbf0-4dfc-8107-2961aae56ccd",
   "metadata": {},
   "outputs": [
    {
     "data": {
      "text/plain": [
       "int"
      ]
     },
     "execution_count": 58,
     "metadata": {},
     "output_type": "execute_result"
    }
   ],
   "source": [
    "#we cannot convert character into integer\n",
    "type (list_cont[1])"
   ]
  },
  {
   "cell_type": "code",
   "execution_count": 57,
   "id": "eb5ffe0d-7cb7-4a0a-a71f-e110f3c132e8",
   "metadata": {},
   "outputs": [
    {
     "data": {
      "text/plain": [
       "float"
      ]
     },
     "execution_count": 57,
     "metadata": {},
     "output_type": "execute_result"
    }
   ],
   "source": [
    "type(float(list_cont[1]))"
   ]
  },
  {
   "cell_type": "code",
   "execution_count": 59,
   "id": "498ce555-af65-4e50-81d3-571d43a4cac2",
   "metadata": {},
   "outputs": [
    {
     "data": {
      "text/plain": [
       "complex"
      ]
     },
     "execution_count": 59,
     "metadata": {},
     "output_type": "execute_result"
    }
   ],
   "source": [
    "type (list_cont[3])"
   ]
  },
  {
   "cell_type": "code",
   "execution_count": 61,
   "id": "ed9ecb63-b8b2-402a-b4e9-df2a1b765fb3",
   "metadata": {},
   "outputs": [
    {
     "ename": "TypeError",
     "evalue": "int() argument must be a string, a bytes-like object or a real number, not 'complex'",
     "output_type": "error",
     "traceback": [
      "\u001b[1;31m---------------------------------------------------------------------------\u001b[0m",
      "\u001b[1;31mTypeError\u001b[0m                                 Traceback (most recent call last)",
      "Cell \u001b[1;32mIn[61], line 1\u001b[0m\n\u001b[1;32m----> 1\u001b[0m \u001b[38;5;28mtype\u001b[39m(\u001b[38;5;28mint\u001b[39m(list_cont[\u001b[38;5;241m3\u001b[39m]))\n",
      "\u001b[1;31mTypeError\u001b[0m: int() argument must be a string, a bytes-like object or a real number, not 'complex'"
     ]
    }
   ],
   "source": [
    "type(int(list_cont[3]))"
   ]
  },
  {
   "cell_type": "code",
   "execution_count": 62,
   "id": "8ba8aea3-548b-4595-875d-d0010cd0e579",
   "metadata": {},
   "outputs": [
    {
     "data": {
      "text/plain": [
       "int"
      ]
     },
     "execution_count": 62,
     "metadata": {},
     "output_type": "execute_result"
    }
   ],
   "source": [
    "#also complex values will not be type casted into float and int\n",
    "type(list_cont[-3])"
   ]
  },
  {
   "cell_type": "code",
   "execution_count": 64,
   "id": "94fc0ffb-597e-47aa-98f1-de03999a2eb3",
   "metadata": {},
   "outputs": [
    {
     "data": {
      "text/plain": [
       "float"
      ]
     },
     "execution_count": 64,
     "metadata": {},
     "output_type": "execute_result"
    }
   ],
   "source": [
    "type(float(list_cont[-3]))"
   ]
  },
  {
   "cell_type": "raw",
   "id": "8fec97c0-17c4-4d46-b4dc-3d7ac890713d",
   "metadata": {},
   "source": [
    " 11. Write a program that checks if a number is positive, negative, or zero."
   ]
  },
  {
   "cell_type": "code",
   "execution_count": 65,
   "id": "d4516a79-56ee-4b82-8c97-f867884ab780",
   "metadata": {},
   "outputs": [
    {
     "name": "stdout",
     "output_type": "stream",
     "text": [
      "The number is positive \n"
     ]
    }
   ],
   "source": [
    "#to check if number is positive\n",
    "a=50\n",
    "if a>0:\n",
    "    print(\"The number is positive \")"
   ]
  },
  {
   "cell_type": "code",
   "execution_count": 67,
   "id": "9670f81a-86f6-4627-9b17-13e1eaf31611",
   "metadata": {},
   "outputs": [
    {
     "name": "stdout",
     "output_type": "stream",
     "text": [
      "The number is negative \n"
     ]
    }
   ],
   "source": [
    "#to check if number is negative \n",
    "i = -30\n",
    "if i <=0:\n",
    "    print(\"The number is negative \")"
   ]
  },
  {
   "cell_type": "code",
   "execution_count": 68,
   "id": "3aa5f616-74c4-4662-ab87-19d62cf66b5f",
   "metadata": {},
   "outputs": [
    {
     "name": "stdout",
     "output_type": "stream",
     "text": [
      "The number is zero\n"
     ]
    }
   ],
   "source": [
    "#to check if number is zero \n",
    "k = 0\n",
    "if k >=0:\n",
    "    print(\"The number is zero\")"
   ]
  },
  {
   "cell_type": "raw",
   "id": "08317647-9c83-44d7-b86e-4e1050699a4a",
   "metadata": {},
   "source": [
    "12. Write a for loop to print numbers from 1 to 10"
   ]
  },
  {
   "cell_type": "code",
   "execution_count": 76,
   "id": "debe4f62-fa95-4cec-8330-dd116ee359d4",
   "metadata": {},
   "outputs": [
    {
     "name": "stdout",
     "output_type": "stream",
     "text": [
      "1\n",
      "2\n",
      "3\n",
      "4\n",
      "5\n",
      "6\n",
      "7\n",
      "8\n",
      "9\n",
      "10\n"
     ]
    }
   ],
   "source": [
    "a=11\n",
    "b =1\n",
    "while b<a:\n",
    "    print(b)\n",
    "    b= b+1"
   ]
  },
  {
   "cell_type": "raw",
   "id": "8887c162-46a9-4a6e-b97d-c1d85a51ccd1",
   "metadata": {},
   "source": [
    "13. Write a Python program to find the sum of all even numbers between 1 and 50\n"
   ]
  },
  {
   "cell_type": "code",
   "execution_count": 3,
   "id": "e4e5456b-899b-4e82-9f84-b992c70d889f",
   "metadata": {},
   "outputs": [
    {
     "name": "stdin",
     "output_type": "stream",
     "text": [
      "please enter a number: 50\n"
     ]
    },
    {
     "name": "stdout",
     "output_type": "stream",
     "text": [
      "0\n",
      "2\n",
      "4\n",
      "6\n",
      "8\n",
      "10\n",
      "12\n",
      "14\n",
      "16\n",
      "18\n",
      "20\n",
      "22\n",
      "24\n",
      "26\n",
      "28\n",
      "30\n",
      "32\n",
      "34\n",
      "36\n",
      "38\n",
      "40\n",
      "42\n",
      "44\n",
      "46\n",
      "48\n",
      "50\n",
      "sum of all even numbers is {sum}\n"
     ]
    }
   ],
   "source": [
    "number = int(input(\"please enter a number:\"))\n",
    "sum = 0\n",
    "for i in range (0,number+1):\n",
    "    if i %2==0:\n",
    "        print(i)\n",
    "        sum+=i\n",
    "\n",
    "print (\"sum of all even numbers is {sum}\")\n"
   ]
  },
  {
   "cell_type": "code",
   "execution_count": null,
   "id": "11b77817-3c91-4e5f-8fc7-7aea8bdf2df5",
   "metadata": {},
   "outputs": [],
   "source": []
  }
 ],
 "metadata": {
  "kernelspec": {
   "display_name": "Python 3 (ipykernel)",
   "language": "python",
   "name": "python3"
  },
  "language_info": {
   "codemirror_mode": {
    "name": "ipython",
    "version": 3
   },
   "file_extension": ".py",
   "mimetype": "text/x-python",
   "name": "python",
   "nbconvert_exporter": "python",
   "pygments_lexer": "ipython3",
   "version": "3.12.7"
  }
 },
 "nbformat": 4,
 "nbformat_minor": 5
}
